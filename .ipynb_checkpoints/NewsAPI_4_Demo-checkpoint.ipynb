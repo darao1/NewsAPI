{
 "cells": [
  {
   "cell_type": "code",
   "execution_count": 1,
   "id": "4454e180",
   "metadata": {},
   "outputs": [],
   "source": [
    "import spotipy\n",
    "import webbrowser\n",
    "import json\n",
    "import urllib.request\n",
    "import geocoder\n",
    "from nltk.corpus import stopwords\n",
    "import spotipy.util as util\n",
    "import random"
   ]
  },
  {
   "cell_type": "code",
   "execution_count": 2,
   "id": "0ca18d67",
   "metadata": {},
   "outputs": [],
   "source": [
    "#I assigned my variable \"key\" to the API key from the news\n",
    "#API\n",
    "with open(\"My_API_Key.txt\", \"r\") as file:\n",
    "    key = file.read()"
   ]
  },
  {
   "cell_type": "code",
   "execution_count": 3,
   "id": "60a2c7d5",
   "metadata": {},
   "outputs": [],
   "source": [
    "#Since \"key\" has been assigned a value of the obtained API key\n",
    "#I can substitute that into the necessary part of the URL\n",
    "location = \"\"\n",
    "#https://newsapi.org/v2/everything?q=Apple&from=2022-11-30&sortBy=popularity&apiKey=API_KEY\n",
    "url = ('https://newsapi.org/v2/everything?q=Apple&from=2022-11-30&sortBy=popularity&apiKey=' + key)\n"
   ]
  },
  {
   "cell_type": "code",
   "execution_count": 4,
   "id": "2c900a17",
   "metadata": {},
   "outputs": [
    {
     "name": "stdout",
     "output_type": "stream",
     "text": [
      "https://newsapi.org/v2/everything?q=Apple&from=2022-11-30&sortBy=popularity&apiKey=bdc400cff6b44e7faabd41ccd041b5a7\n"
     ]
    }
   ],
   "source": [
    "print(url)"
   ]
  },
  {
   "cell_type": "code",
   "execution_count": 5,
   "id": "1c5ef7ef",
   "metadata": {},
   "outputs": [],
   "source": [
    "request = urllib.request.Request(url)\n",
    "response = urllib.request.urlopen(request)"
   ]
  },
  {
   "cell_type": "code",
   "execution_count": 6,
   "id": "41b51d03",
   "metadata": {},
   "outputs": [
    {
     "data": {
      "text/plain": [
       "http.client.HTTPResponse"
      ]
     },
     "execution_count": 6,
     "metadata": {},
     "output_type": "execute_result"
    }
   ],
   "source": [
    "type(response)"
   ]
  },
  {
   "cell_type": "code",
   "execution_count": null,
   "id": "160d9b02",
   "metadata": {},
   "outputs": [],
   "source": []
  }
 ],
 "metadata": {
  "kernelspec": {
   "display_name": "Python 3 (ipykernel)",
   "language": "python",
   "name": "python3"
  },
  "language_info": {
   "codemirror_mode": {
    "name": "ipython",
    "version": 3
   },
   "file_extension": ".py",
   "mimetype": "text/x-python",
   "name": "python",
   "nbconvert_exporter": "python",
   "pygments_lexer": "ipython3",
   "version": "3.11.0"
  }
 },
 "nbformat": 4,
 "nbformat_minor": 5
}
